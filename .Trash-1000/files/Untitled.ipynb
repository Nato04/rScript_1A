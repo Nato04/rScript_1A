{
 "cells": [
  {
   "cell_type": "code",
   "execution_count": 14,
   "id": "ef6a44f5-7330-4951-a5b9-f2662331da17",
   "metadata": {
    "tags": []
   },
   "outputs": [
    {
     "name": "stdin",
     "output_type": "stream",
     "text": [
      "Input image filename:  regrex1.csv\n"
     ]
    }
   ],
   "source": [
    "filename = readline(prompt = \"Input image filename: \")"
   ]
  },
  {
   "cell_type": "code",
   "execution_count": 15,
   "id": "2d592602-5d74-488a-aab2-f4ee6a6f38a9",
   "metadata": {
    "tags": []
   },
   "outputs": [
    {
     "data": {
      "text/plain": [
       "[1] regrex1.csv"
      ]
     },
     "metadata": {},
     "output_type": "display_data"
    }
   ],
   "source": [
    "noquote(filename)"
   ]
  },
  {
   "cell_type": "code",
   "execution_count": 17,
   "id": "1ae96421-726a-4bbc-867b-661f1a89a342",
   "metadata": {
    "tags": []
   },
   "outputs": [
    {
     "data": {
      "text/html": [
       "'regrex'"
      ],
      "text/latex": [
       "'regrex'"
      ],
      "text/markdown": [
       "'regrex'"
      ],
      "text/plain": [
       "[1] \"regrex\""
      ]
     },
     "metadata": {},
     "output_type": "display_data"
    }
   ],
   "source": [
    "file_path_sans_ext(\"regrex.csv\")"
   ]
  },
  {
   "cell_type": "code",
   "execution_count": 19,
   "id": "71144644-6ef3-4843-beda-2bc49f43a602",
   "metadata": {
    "tags": []
   },
   "outputs": [
    {
     "data": {
      "text/plain": [
       "[1] regrex1"
      ]
     },
     "metadata": {},
     "output_type": "display_data"
    }
   ],
   "source": [
    "noquote(file_path_sans_ext('regrex1.csv'))"
   ]
  },
  {
   "cell_type": "code",
   "execution_count": 21,
   "id": "51cd80a8-23f2-4010-a4b7-3baef9c5ee92",
   "metadata": {
    "tags": []
   },
   "outputs": [
    {
     "ename": "ERROR",
     "evalue": "Error in str_remove(\"regrex1.csv\", \".csv\"): could not find function \"str_remove\"\n",
     "output_type": "error",
     "traceback": [
      "Error in str_remove(\"regrex1.csv\", \".csv\"): could not find function \"str_remove\"\nTraceback:\n"
     ]
    }
   ],
   "source": [
    "str_remove('regrex1.csv','.csv')"
   ]
  },
  {
   "cell_type": "code",
   "execution_count": null,
   "id": "c1edfc04-59bd-4e3a-9930-814b464200a7",
   "metadata": {},
   "outputs": [],
   "source": []
  }
 ],
 "metadata": {
  "kernelspec": {
   "display_name": "R",
   "language": "R",
   "name": "ir"
  },
  "language_info": {
   "codemirror_mode": "r",
   "file_extension": ".r",
   "mimetype": "text/x-r-source",
   "name": "R",
   "pygments_lexer": "r",
   "version": "4.0.5"
  }
 },
 "nbformat": 4,
 "nbformat_minor": 5
}
