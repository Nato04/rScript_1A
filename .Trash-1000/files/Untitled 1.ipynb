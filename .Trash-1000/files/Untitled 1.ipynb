{
 "cells": [
  {
   "cell_type": "code",
   "execution_count": 4,
   "id": "65f79e56-26cd-497b-832c-f22ba2e11990",
   "metadata": {
    "tags": []
   },
   "outputs": [],
   "source": [
    "library(stringr)"
   ]
  },
  {
   "cell_type": "code",
   "execution_count": 6,
   "id": "7c9888d8-4d53-45f0-9d7d-1e1b908585d6",
   "metadata": {
    "tags": []
   },
   "outputs": [
    {
     "data": {
      "text/html": [
       "'regrex1'"
      ],
      "text/latex": [
       "'regrex1'"
      ],
      "text/markdown": [
       "'regrex1'"
      ],
      "text/plain": [
       "[1] \"regrex1\""
      ]
     },
     "metadata": {},
     "output_type": "display_data"
    }
   ],
   "source": [
    "str_replace(\"regrex1.csv\",\".csv\",\"\")"
   ]
  },
  {
   "cell_type": "code",
   "execution_count": 9,
   "id": "1d6d3a52-7a7d-49a8-a04b-164ccab5f4c2",
   "metadata": {
    "tags": []
   },
   "outputs": [
    {
     "data": {
      "text/html": [
       "'regrex1'"
      ],
      "text/latex": [
       "'regrex1'"
      ],
      "text/markdown": [
       "'regrex1'"
      ],
      "text/plain": [
       "[1] \"regrex1\""
      ]
     },
     "metadata": {},
     "output_type": "display_data"
    }
   ],
   "source": [
    "str_remove(\"regrex1.csv\",\".csv\")"
   ]
  },
  {
   "cell_type": "code",
   "execution_count": null,
   "id": "d05524bb-140b-422b-89e7-346834ddfd23",
   "metadata": {},
   "outputs": [],
   "source": []
  },
  {
   "cell_type": "code",
   "execution_count": null,
   "id": "e47df241-9653-42f5-b19c-8b5421ba7915",
   "metadata": {},
   "outputs": [],
   "source": []
  }
 ],
 "metadata": {
  "kernelspec": {
   "display_name": "R",
   "language": "R",
   "name": "ir"
  },
  "language_info": {
   "codemirror_mode": "r",
   "file_extension": ".r",
   "mimetype": "text/x-r-source",
   "name": "R",
   "pygments_lexer": "r",
   "version": "4.1.3"
  }
 },
 "nbformat": 4,
 "nbformat_minor": 5
}
